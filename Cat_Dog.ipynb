{
  "nbformat": 4,
  "nbformat_minor": 0,
  "metadata": {
    "colab": {
      "provenance": [],
      "authorship_tag": "ABX9TyP3uRuydFQGm33BZfxt3InD",
      "include_colab_link": true
    },
    "kernelspec": {
      "name": "python3",
      "display_name": "Python 3"
    },
    "language_info": {
      "name": "python"
    }
  },
  "cells": [
    {
      "cell_type": "markdown",
      "metadata": {
        "id": "view-in-github",
        "colab_type": "text"
      },
      "source": [
        "<a href=\"https://colab.research.google.com/github/syedimran09/Cat-vs-Dog-Classifier/blob/main/Cat_Dog.ipynb\" target=\"_parent\"><img src=\"https://colab.research.google.com/assets/colab-badge.svg\" alt=\"Open In Colab\"/></a>"
      ]
    },
    {
      "cell_type": "code",
      "source": [
        "import os\n",
        "import shutil\n",
        "import zipfile\n",
        "import random\n",
        "from pathlib import Path"
      ],
      "metadata": {
        "id": "vGyUeoH42Zlk"
      },
      "execution_count": null,
      "outputs": []
    },
    {
      "cell_type": "code",
      "source": [
        "!pip install kaggle --quiet\n",
        "!pip install gradio --quiet"
      ],
      "metadata": {
        "id": "HhdXXdII2m8D"
      },
      "execution_count": 49,
      "outputs": []
    },
    {
      "cell_type": "code",
      "source": [
        "from google.colab import files\n",
        "files.upload()"
      ],
      "metadata": {
        "id": "BEjHinMC2sFL"
      },
      "execution_count": null,
      "outputs": []
    },
    {
      "cell_type": "code",
      "source": [
        "os.makedirs(os.path.expanduser(\"~/.kaggle\"), exist_ok = True)\n",
        "shutil.move(\"kaggle.json\", os.path.expanduser(\"~/.kaggle/kaggle.json\"))\n",
        "os.chmod(os.path.expanduser(\"~/.kaggle/kaggle.json\"), 0o600)"
      ],
      "metadata": {
        "id": "8uL8E3yj20uD"
      },
      "execution_count": null,
      "outputs": []
    },
    {
      "cell_type": "code",
      "source": [
        "!kaggle datasets download -d salader/dogs-vs-cats"
      ],
      "metadata": {
        "id": "qFR4-eoY3H81"
      },
      "execution_count": null,
      "outputs": []
    },
    {
      "cell_type": "code",
      "source": [
        "with zipfile.ZipFile(\"dogs-vs-cats.zip\", 'r') as zip_ref:\n",
        "    zip_ref.extractall(\"dataset_raw\")"
      ],
      "metadata": {
        "id": "5lliNfX53VMf"
      },
      "execution_count": null,
      "outputs": []
    },
    {
      "cell_type": "code",
      "source": [
        "source_cats = Path(\"dataset_raw/test/cats\")\n",
        "source_dogs = Path(\"dataset_raw/test/dogs\")"
      ],
      "metadata": {
        "id": "eszIseB23oaU"
      },
      "execution_count": null,
      "outputs": []
    },
    {
      "cell_type": "code",
      "source": [
        "train_cats = Path(\"dataset/train/cats\")\n",
        "train_dogs = Path(\"dataset/train/dogs\")\n",
        "val_cats = Path(\"dataset/validation/cats\")\n",
        "val_dogs = Path(\"dataset/validation/dogs\")"
      ],
      "metadata": {
        "id": "ihOrlX7q9r3D"
      },
      "execution_count": null,
      "outputs": []
    },
    {
      "cell_type": "code",
      "source": [
        "for path in [train_cats, val_cats, train_dogs, val_dogs]:\n",
        "  os.makedirs(path, exist_ok = True)"
      ],
      "metadata": {
        "id": "C9OtddZb31_S"
      },
      "execution_count": null,
      "outputs": []
    },
    {
      "cell_type": "code",
      "source": [
        "split_ratio = 0.8"
      ],
      "metadata": {
        "id": "rRM4gS0p-SAr"
      },
      "execution_count": null,
      "outputs": []
    },
    {
      "cell_type": "code",
      "source": [
        "cat_images = os.listdir(source_cats)\n",
        "random.shuffle(cat_images)\n",
        "split_point = int(len(cat_images)*split_ratio)\n",
        "for img in cat_images[:split_point]:\n",
        "  shutil.copy(source_cats/img, train_cats/img)\n",
        "for img in cat_images[split_point:]:\n",
        "  shutil.copy(source_cats/img, val_cats/img)"
      ],
      "metadata": {
        "id": "-a97sp924E3Q"
      },
      "execution_count": null,
      "outputs": []
    },
    {
      "cell_type": "code",
      "source": [
        "dog_images = os.listdir(source_dogs)\n",
        "random.shuffle(dog_images)\n",
        "split_point = int(len(dog_images)*split_ratio)\n",
        "for img in dog_images[:split_point]:\n",
        "  shutil.copy(source_dogs/img, train_dogs/img)\n",
        "for img in dog_images[split_point:]:\n",
        "  shutil.copy(source_dogs/img, val_dogs/img)\n",
        "\n",
        "print(\"Dataset split completed!\")"
      ],
      "metadata": {
        "id": "PNwCL4ng-byt"
      },
      "execution_count": null,
      "outputs": []
    },
    {
      "cell_type": "code",
      "source": [
        "from tensorflow.keras.preprocessing.image import ImageDataGenerator\n",
        "\n",
        "train_datagen = ImageDataGenerator(rescale = 1./255)\n",
        "val_datagen = ImageDataGenerator(rescale = 1./255)\n",
        "\n",
        "train_generator = train_datagen.flow_from_directory(\n",
        "    'dataset/train',\n",
        "    target_size = (150, 150),\n",
        "    batch_size = 32,\n",
        "    class_mode = \"binary\"\n",
        ")\n",
        "\n",
        "val_generator = val_datagen.flow_from_directory(\n",
        "    'dataset/validation',\n",
        "    target_size = (150, 150),\n",
        "    batch_size = 32,\n",
        "    class_mode = \"binary\"\n",
        ")"
      ],
      "metadata": {
        "id": "ypmfK5Tf49St"
      },
      "execution_count": null,
      "outputs": []
    },
    {
      "cell_type": "code",
      "source": [
        "from tensorflow.keras.models import Sequential\n",
        "from tensorflow.keras.layers import Conv2D, MaxPooling2D, Flatten, Dense, Dropout\n",
        "\n",
        "model = Sequential([\n",
        "    Conv2D(32, (3,3), activation='relu', input_shape=(150,150,3)),\n",
        "    MaxPooling2D(2,2),\n",
        "\n",
        "    Conv2D(64, (3,3), activation='relu'),\n",
        "    MaxPooling2D(2,2),\n",
        "\n",
        "    Conv2D(128, (3,3), activation='relu'),\n",
        "    MaxPooling2D(2,2),\n",
        "\n",
        "    Flatten(),\n",
        "    Dense(512, activation='relu'),\n",
        "    Dropout(0.5),\n",
        "    Dense(1, activation='sigmoid')  # Binary classification\n",
        "])\n",
        "\n",
        "model.compile(optimizer='adam',\n",
        "              loss='binary_crossentropy',\n",
        "              metrics=['accuracy'])"
      ],
      "metadata": {
        "id": "z48tVlXq5lHL"
      },
      "execution_count": null,
      "outputs": []
    },
    {
      "cell_type": "code",
      "source": [
        "history = model.fit(\n",
        "    train_generator,\n",
        "    epochs = 5,\n",
        "    validation_data = val_generator\n",
        ")"
      ],
      "metadata": {
        "id": "kQwMdvKt53nf"
      },
      "execution_count": null,
      "outputs": []
    },
    {
      "cell_type": "code",
      "source": [
        "import matplotlib.pyplot as plt\n",
        "\n",
        "plt.plot(history.history['accuracy'], label = 'Train Accuracy')\n",
        "plt.plot(history.history['val_accuracy'], label = 'Validation Accuracy')\n",
        "plt.legend()\n",
        "plt.show()"
      ],
      "metadata": {
        "id": "BGiK5PtE6PdP",
        "collapsed": true
      },
      "execution_count": null,
      "outputs": []
    },
    {
      "cell_type": "code",
      "source": [
        "import gradio as gr\n",
        "import numpy as np\n",
        "from tensorflow.keras.preprocessing import image"
      ],
      "metadata": {
        "id": "1jsHGEK6HokV"
      },
      "execution_count": 51,
      "outputs": []
    },
    {
      "cell_type": "code",
      "source": [
        "def classify_image(img):\n",
        "    try:\n",
        "        # Convert image to PIL and resize\n",
        "        img = img.resize((150, 150))\n",
        "\n",
        "        # Convert to array\n",
        "        img_array = image.img_to_array(img) / 255.0\n",
        "        img_array = np.expand_dims(img_array, axis=0)\n",
        "\n",
        "        # Prediction\n",
        "        prediction = model.predict(img_array)[0][0]\n",
        "        return \"Dog 🐶\" if prediction > 0.5 else \"Cat 🐱\"\n",
        "\n",
        "    except Exception as e:\n",
        "        print(\"Error during prediction:\", e)\n",
        "        return f\"Error: {str(e)}\"\n"
      ],
      "metadata": {
        "id": "sfoPDRLzHtrs"
      },
      "execution_count": 60,
      "outputs": []
    },
    {
      "cell_type": "code",
      "source": [
        "iface = gr.Interface(\n",
        "    fn=classify_image, inputs=gr.Image(type=\"pil\"), outputs=\"text\",\n",
        "    title = \"Cats vs Dog Classifier\",\n",
        "    description=\"Upload an image and the AI will tell if it's a cat or Dog\"\n",
        ")\n",
        "iface.launch()"
      ],
      "metadata": {
        "id": "9nflwwzOHv8V"
      },
      "execution_count": null,
      "outputs": []
    }
  ]
}